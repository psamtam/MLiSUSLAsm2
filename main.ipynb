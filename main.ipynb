{
 "cells": [
  {
   "cell_type": "markdown",
   "metadata": {},
   "source": [
    "## This programme helps to finish the USL Asm 2"
   ]
  },
  {
   "cell_type": "code",
   "execution_count": 8,
   "metadata": {},
   "outputs": [],
   "source": [
    "import numpy as np"
   ]
  },
  {
   "cell_type": "code",
   "execution_count": 9,
   "metadata": {},
   "outputs": [],
   "source": [
    "X = np.array([[1.5, 3], [1.6, 1.2], [1.1, 1], [3.7, 1.8], [4.2, 2.5], [2.7, 3], [3.1, 2]])\n",
    "\n",
    "mu = np.array([[1.4, 1.6], [2.5, 1.3], [3, 1.3]])"
   ]
  },
  {
   "cell_type": "code",
   "execution_count": 16,
   "metadata": {},
   "outputs": [
    {
     "name": "stdout",
     "output_type": "stream",
     "text": [
      "Original X: \n",
      "[[1.5 3. ]\n",
      " [1.6 1.2]\n",
      " [1.1 1. ]\n",
      " [3.7 1.8]\n",
      " [4.2 2.5]\n",
      " [2.7 3. ]\n",
      " [3.1 2. ]]\n"
     ]
    }
   ],
   "source": [
    "print(\"Original X: \")\n",
    "print(X)"
   ]
  },
  {
   "cell_type": "code",
   "execution_count": 66,
   "metadata": {},
   "outputs": [
    {
     "name": "stdout",
     "output_type": "stream",
     "text": [
      "Distance between X and mu1: \n",
      "[1.40356688 0.4472136  0.67082039 2.30867928 2.94108823 1.91049732\n",
      " 1.74642492]\n",
      "Distance between X and mu2: \n",
      "[1.97230829 0.90553851 1.43178211 1.3        2.0808652  1.71172428\n",
      " 0.92195445]\n",
      "Distance between X and mu3: \n",
      "[2.26715681 1.40356688 1.92353841 0.86023253 1.69705627 1.72626765\n",
      " 0.70710678]\n",
      "Items belong to the class: \n",
      "[0 0 0 2 2 1 2]\n",
      "New mu: \n",
      "[[1.4        1.73333333]\n",
      " [2.7        3.        ]\n",
      " [3.66666667 2.1       ]]\n"
     ]
    }
   ],
   "source": [
    "X_distance = []\n",
    "for i in range(0, 3):\n",
    "  print(f\"Distance between X and mu{i+1}: \")\n",
    "  temp = np.sqrt(np.sum((X-mu[i])**2, axis=1))\n",
    "  X_distance.append(temp)\n",
    "  print(temp)\n",
    "\n",
    "print(\"Items belong to the class: \")\n",
    "temp = np.argmin(X_distance, axis=0) \n",
    "temp = np.array(temp)\n",
    "print(temp)\n",
    "\n",
    "new_mu1 = [0,0,0]\n",
    "\n",
    "for i in range(3):\n",
    "  t = X[temp==i]\n",
    "  new_mu1[i] = np.mean(t, axis=0)\n",
    "\n",
    "new_mu1 = np.array(new_mu1)\n",
    "print(\"New mu: \")\n",
    "print(new_mu1)"
   ]
  },
  {
   "cell_type": "code",
   "execution_count": 67,
   "metadata": {},
   "outputs": [
    {
     "name": "stdout",
     "output_type": "stream",
     "text": [
      "Distance between X and mu1: \n",
      "[1.2706079  0.56960025 0.79232429 2.30096598 2.90306352 1.81506045\n",
      " 1.72078793]\n",
      "Distance between X and mu2: \n",
      "[1.2        2.10950231 2.56124969 1.56204994 1.58113883 0.\n",
      " 1.07703296]\n",
      "Distance between X and mu3: \n",
      "[2.34615525 2.25413201 2.79245014 0.30184617 0.66666667 1.32077418\n",
      " 0.57542255]\n",
      "Items belong to the class: \n",
      "[1 0 0 2 2 1 2]\n",
      "New mu: \n",
      "[[1.35       1.1       ]\n",
      " [2.1        3.        ]\n",
      " [3.66666667 2.1       ]]\n"
     ]
    }
   ],
   "source": [
    "X_distance = []\n",
    "for i in range(0, 3):\n",
    "  print(f\"Distance between X and mu{i+1}: \")\n",
    "  temp = np.sqrt(np.sum((X-new_mu1[i])**2, axis=1))\n",
    "  X_distance.append(temp)\n",
    "  print(temp)\n",
    "\n",
    "print(\"Items belong to the class: \")\n",
    "temp = np.argmin(X_distance, axis=0) \n",
    "temp = np.array(temp)\n",
    "print(temp)\n",
    "\n",
    "new_mu1 = [0,0,0]\n",
    "\n",
    "for i in range(3):\n",
    "  t = X[temp==i]\n",
    "  new_mu1[i] = np.mean(t, axis=0)\n",
    "\n",
    "new_mu1 = np.array(new_mu1)\n",
    "print(\"New mu: \")\n",
    "print(new_mu1)"
   ]
  }
 ],
 "metadata": {
  "kernelspec": {
   "display_name": "MLEAsm1",
   "language": "python",
   "name": "python3"
  },
  "language_info": {
   "codemirror_mode": {
    "name": "ipython",
    "version": 3
   },
   "file_extension": ".py",
   "mimetype": "text/x-python",
   "name": "python",
   "nbconvert_exporter": "python",
   "pygments_lexer": "ipython3",
   "version": "3.10.13"
  }
 },
 "nbformat": 4,
 "nbformat_minor": 2
}
